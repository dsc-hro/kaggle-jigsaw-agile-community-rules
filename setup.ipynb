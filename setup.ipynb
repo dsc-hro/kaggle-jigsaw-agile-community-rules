{
 "cells": [
  {
   "cell_type": "markdown",
   "id": "14058e0a",
   "metadata": {},
   "source": [
    "# Setup\n",
    "\n",
    "> Short introduction to Kaggle's UI and kagglehub"
   ]
  },
  {
   "cell_type": "markdown",
   "id": "654a1f81",
   "metadata": {},
   "source": [
    "## Via Kaggle's UI"
   ]
  },
  {
   "cell_type": "markdown",
   "id": "2922487a",
   "metadata": {},
   "source": [
    "*Note that the UI might have changed since `2025-09-02`.*\n",
    "\n",
    "### Competition Data\n",
    "\n",
    "The kaggle instance already has access to the competition data.\n",
    "\n",
    "### GPU Acceleration\n",
    "\n",
    "For the language models, we need GPU acceleration!\n",
    "\n",
    "`Settings > Accelerator > GPU T4 x2`\n",
    "\n",
    "### Pretrained Models\n",
    "\n",
    "Open the notebook sidetab:\n",
    "\n",
    "`View > Show Sidebar`\n",
    "\n",
    "You can add data and models via the `+ Add Input` button.\n",
    "Search for Gemma 3 and add the 1b-it variant for the `transformers` Framework.\n",
    "It should show up under: `/kaggle/input/gemma-3/transformers/gemma-3-1b-it/1`\n",
    "You can also try other models, but be aware, that the kaggle instance has limited GPU memory.\n",
    "Everything above `7b` will probably run into memory issues, unless the model is quantized.\n",
    "\n",
    "![kaggle sidebar](screenshots/kaggle-sidebar.png)"
   ]
  },
  {
   "cell_type": "markdown",
   "id": "5b2ec87c",
   "metadata": {},
   "source": [
    "### Installing Dependencies\n",
    "\n",
    "You can use magic commands in Notebook cells to install dependencies via pip like this:"
   ]
  },
  {
   "cell_type": "code",
   "execution_count": null,
   "id": "f1afb2c4",
   "metadata": {},
   "outputs": [],
   "source": [
    "```python\n",
    "!pip install numpy\n",
    "```"
   ]
  },
  {
   "cell_type": "markdown",
   "id": "b7aad851",
   "metadata": {},
   "source": [
    "### Running Notebooks Offline\n",
    "\n",
    "Note that this competition requires notebooks to run offline!\n",
    "Probably, so that participant's are unable to just Google the reddit comments to check if they have been banned, or to prevent leaking the secret test set.\n",
    "On the other hand, this also means that you cannot download pretrained models from Hugging Face :/\n",
    "\n",
    "If you are relying on pretrained models in your offline notebook, you need to add them as required inputs via Kaggle's UI.\n",
    "However, some models might not be available for the framework you're using (e.g., transformers), or not be available at all.\n",
    "In that case, you can download `google-bert/bert-base-cased` beforehand, and upload it via the Kaggle UI.\n",
    "\n",
    "MAKE SURE TO CHECK THE MODEL'S LICENSE: ARE YOU ACTUALLY ALLOWED TO UPLOAD THE WEIGHTS TO KAGGLE?\n",
    "\n",
    "BERT is licensed under Apache 2.0, so you're fine."
   ]
  },
  {
   "cell_type": "markdown",
   "id": "c4adfaab",
   "metadata": {},
   "source": [
    "## Via KaggleHub"
   ]
  },
  {
   "cell_type": "markdown",
   "id": "0be9bc18",
   "metadata": {},
   "source": [
    "Alternatively, we can also use `kagglehub`, allowing us to keep the file paths consistent between kaggle's notebook environment and local execution.\n",
    "However, we need to provide our login credentials for\n",
    "\n",
    "1. If you don't have an API token yet, create a new one at: https://www.kaggle.com/settings/account\n",
    "2. Provide your credentials in `~/.kaggle/kaggle.json` (where `~` is your home directory)\n",
    "\n",
    "If you are using the devcontainer setup, you can also put your credentials in `.devcontainer/kaggle.env`.\n",
    "This defines the environment variables `KAGGLE_USERNAME` and `KAGGLE_KEY` for `kagglehub` to use.\n",
    "\n",
    "See [kagglehubs README](https://github.com/Kaggle/kagglehub) for more information.\n",
    "\n",
    "Alternatively, you can run this cell to login:"
   ]
  },
  {
   "cell_type": "code",
   "execution_count": null,
   "id": "e2486bc9",
   "metadata": {},
   "outputs": [],
   "source": [
    "import kagglehub\n",
    "\n",
    "# will get notebook stuck if running offline\n",
    "try:\n",
    "    # already logged in?\n",
    "    whoami = kagglehub.whoami()\n",
    "except kagglehub.exceptions.UnauthenticatedError:\n",
    "    # otherwise login\n",
    "    kagglehub.login()\n",
    "\n",
    "\n",
    "DATA_PATH = kagglehub.competition_download(COMPETITION_HANDLE)\n",
    "GEMMA_1B_IT_PATH = kagglehub.model_download(GEMMA_1B_IT_HANDLE)"
   ]
  },
  {
   "cell_type": "markdown",
   "id": "d0e44474",
   "metadata": {},
   "source": []
  }
 ],
 "metadata": {
  "kernelspec": {
   "display_name": "base",
   "language": "python",
   "name": "python3"
  },
  "language_info": {
   "codemirror_mode": {
    "name": "ipython",
    "version": 3
   },
   "file_extension": ".py",
   "mimetype": "text/x-python",
   "name": "python",
   "nbconvert_exporter": "python",
   "pygments_lexer": "ipython3",
   "version": "3.12.11"
  }
 },
 "nbformat": 4,
 "nbformat_minor": 5
}
