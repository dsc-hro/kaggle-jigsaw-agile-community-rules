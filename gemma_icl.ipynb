{
 "cells": [
  {
   "cell_type": "markdown",
   "id": "b354e896",
   "metadata": {},
   "source": [
    "# In Context Learning with Gemma 3\n",
    "\n",
    "> Predict rule violations via Few Shot prompting"
   ]
  },
  {
   "cell_type": "code",
   "execution_count": 1,
   "id": "ce32800d",
   "metadata": {
    "tags": [
     "setup",
     "hide-cell"
    ]
   },
   "outputs": [],
   "source": [
    "import kagglehub\n",
    "import pandas as pd\n",
    "import torch\n",
    "\n",
    "from datasets import Dataset, load_dataset\n",
    "from pathlib import Path\n",
    "from transformers import AutoModelForCausalLM, AutoTokenizer\n",
    "from tqdm.notebook import tqdm\n",
    "\n",
    "\n",
    "COMPETITION_HANDLE = \"jigsaw-agile-community-rules\"\n",
    "\n",
    "GEMMA_1B_IT_HANDLE = \"google/gemma-3/transformers/gemma-3-1b-it\"\n",
    "GEMMA_4B_IT_HANDLE = \"google/gemma-3/transformers/gemma-3-4b-it\"\n",
    "GEMMA_4B_IT_Q4_HANDLE = \"google/gemma-3/transformers/gemma-3-4b-it-qat-q4_0-unquantized\"\n",
    "\n",
    "DEVICE = \"cuda\" if torch.cuda.is_available() else \"cpu\"\n"
   ]
  },
  {
   "cell_type": "markdown",
   "id": "6b0921ec",
   "metadata": {},
   "source": [
    "## Downloading Data and Models"
   ]
  },
  {
   "cell_type": "code",
   "execution_count": 2,
   "id": "81114879",
   "metadata": {},
   "outputs": [
    {
     "name": "stdout",
     "output_type": "stream",
     "text": [
      "/root/.cache/kagglehub/competitions/jigsaw-agile-community-rules\n"
     ]
    }
   ],
   "source": [
    "DATA_PATH = Path(kagglehub.competition_download(COMPETITION_HANDLE))\n",
    "\n",
    "print(DATA_PATH)"
   ]
  },
  {
   "cell_type": "code",
   "execution_count": 3,
   "id": "0a74137f",
   "metadata": {},
   "outputs": [
    {
     "name": "stdout",
     "output_type": "stream",
     "text": [
      "/root/.cache/kagglehub/models/google/gemma-3/transformers/gemma-3-1b-it/1\n"
     ]
    }
   ],
   "source": [
    "GEMMA_1B_IT_PATH = Path(kagglehub.model_download(GEMMA_1B_IT_HANDLE))\n",
    "print(GEMMA_1B_IT_PATH)"
   ]
  },
  {
   "cell_type": "code",
   "execution_count": 4,
   "id": "63cc61dd",
   "metadata": {},
   "outputs": [],
   "source": [
    "TRAIN_PATH = DATA_PATH / \"train.csv\"\n",
    "TEST_PATH = DATA_PATH / \"test.csv\"\n",
    "SAMPLE_PATH = DATA_PATH / \"sample_submission.csv\"\n",
    "\n",
    "\n",
    "train_df = pd.read_csv(TRAIN_PATH)\n",
    "test_df = pd.read_csv(TEST_PATH)\n",
    "sample_df = pd.read_csv(SAMPLE_PATH)"
   ]
  },
  {
   "cell_type": "markdown",
   "id": "b75d0446",
   "metadata": {},
   "source": [
    "## Loading gemma-3"
   ]
  },
  {
   "cell_type": "markdown",
   "id": "089dfa46",
   "metadata": {},
   "source": [
    "The AutoModel and AutoTokenizer classes will automatically select the right Model and Tokenizer class for our pretrained model.\n",
    "I.e., they will resolve to `Gemma3ForCausalLM` and `GemmaTokenizerFast`."
   ]
  },
  {
   "cell_type": "code",
   "execution_count": 5,
   "id": "7818ae65",
   "metadata": {},
   "outputs": [
    {
     "name": "stdout",
     "output_type": "stream",
     "text": [
      "<class 'transformers.models.gemma3.modeling_gemma3.Gemma3ForCausalLM'>\n"
     ]
    }
   ],
   "source": [
    "model = AutoModelForCausalLM.from_pretrained(GEMMA_1B_IT_PATH)\n",
    "\n",
    "# move model to GPU if available\n",
    "model.to(DEVICE)\n",
    "\n",
    "print(type(model))"
   ]
  },
  {
   "cell_type": "code",
   "execution_count": 6,
   "id": "dc2c03ba",
   "metadata": {},
   "outputs": [
    {
     "name": "stdout",
     "output_type": "stream",
     "text": [
      "<class 'transformers.models.gemma.tokenization_gemma_fast.GemmaTokenizerFast'>\n"
     ]
    }
   ],
   "source": [
    "tokenizer = AutoTokenizer.from_pretrained(GEMMA_1B_IT_PATH)\n",
    "print(type(tokenizer))"
   ]
  },
  {
   "cell_type": "markdown",
   "id": "c15c98c1",
   "metadata": {},
   "source": [
    "## Prompting gemma-3 via Transformers"
   ]
  },
  {
   "cell_type": "code",
   "execution_count": 7,
   "id": "2addc219",
   "metadata": {},
   "outputs": [],
   "source": [
    "# try out the llm\n",
    "prompt = \"Do you like Bratwurst?\""
   ]
  },
  {
   "cell_type": "code",
   "execution_count": 8,
   "id": "dacff483",
   "metadata": {},
   "outputs": [
    {
     "data": {
      "text/plain": [
       "tensor([[     2,   6294,    611,   1133,  70383, 236765,  69123, 236881]])"
      ]
     },
     "execution_count": 8,
     "metadata": {},
     "output_type": "execute_result"
    }
   ],
   "source": [
    "# apply tokenizer: cut string into tokens and map to token ids\n",
    "input_ids = tokenizer.encode(prompt, return_tensors=\"pt\")\n",
    "input_ids"
   ]
  },
  {
   "cell_type": "code",
   "execution_count": 9,
   "id": "905d61b2",
   "metadata": {},
   "outputs": [
    {
     "data": {
      "text/plain": [
       "tensor([[     2,   6294,    611,   1133,  70383, 236765,  69123, 236881,    108,\n",
       "         236769,  10784, 236786,   3771, 236768,    108,   2859,    611,  19398,\n",
       "            623,   3771,   2098,   1299,   5091,   3442,    786,   3217, 236761,\n",
       "            108]], device='cuda:0')"
      ]
     },
     "execution_count": 9,
     "metadata": {},
     "output_type": "execute_result"
    }
   ],
   "source": [
    "# apply our model to generate output ids\n",
    "output_ids = model.generate(input_ids.to(DEVICE))\n",
    "output_ids"
   ]
  },
  {
   "cell_type": "code",
   "execution_count": 10,
   "id": "b4476b9f",
   "metadata": {},
   "outputs": [
    {
     "data": {
      "text/plain": [
       "['<bos>Do you like Bratwurst?\\n\\n(Yes/No)\\n\\nIf you answered \"No,\" then please tell me why.\\n\\n']"
      ]
     },
     "execution_count": 10,
     "metadata": {},
     "output_type": "execute_result"
    }
   ],
   "source": [
    "# decode output token ids\n",
    "tokenizer.batch_decode(output_ids)"
   ]
  },
  {
   "cell_type": "code",
   "execution_count": 11,
   "id": "f6d808ec",
   "metadata": {},
   "outputs": [
    {
     "name": "stderr",
     "output_type": "stream",
     "text": [
      "Device set to use cuda:0\n"
     ]
    }
   ],
   "source": [
    "# you can use a pipeline object to simplify the prompting\n",
    "from transformers.pipelines import pipeline\n",
    "\n",
    "pipe = pipeline(\"text-generation\", model=model, tokenizer=tokenizer)"
   ]
  },
  {
   "cell_type": "markdown",
   "id": "93e1ea00",
   "metadata": {},
   "source": [
    "## Using an instruction tuned (it) model"
   ]
  },
  {
   "cell_type": "code",
   "execution_count": 12,
   "id": "fc1973f9",
   "metadata": {},
   "outputs": [
    {
     "name": "stdout",
     "output_type": "stream",
     "text": [
      "<bos><start_of_turn>user\n",
      "Do you like Bratwurst?<end_of_turn>\n",
      "<start_of_turn>model\n",
      "\n"
     ]
    }
   ],
   "source": [
    "# however, we want the llm to answer our question (like ChatGPT) instead of just elaborating on it\n",
    "# first of all, we need an instruction tuned (it) model\n",
    "# then, we need to apply the chat template\n",
    "chat = [\n",
    "    { \"role\": \"user\", \"content\": prompt},\n",
    "]\n",
    "\n",
    "messages = tokenizer.apply_chat_template(chat, tokenize=False, add_generation_prompt=True)\n",
    "\n",
    "print(messages)"
   ]
  },
  {
   "cell_type": "code",
   "execution_count": 13,
   "id": "d075ea7c",
   "metadata": {},
   "outputs": [
    {
     "data": {
      "text/plain": [
       "[{'generated_text': 'As a large language model, I don’t have the ability to *taste* or experience food like humans do! But… based on the vast amount of text I’ve processed about Bratwurst, I can tell you that it’s'}]"
      ]
     },
     "execution_count": 13,
     "metadata": {},
     "output_type": "execute_result"
    }
   ],
   "source": [
    "pipe(messages, max_new_tokens=50, return_full_text=False)"
   ]
  },
  {
   "cell_type": "markdown",
   "id": "cf6785fd",
   "metadata": {},
   "source": [
    "### Prompting the model to predict rule violations"
   ]
  },
  {
   "cell_type": "code",
   "execution_count": 14,
   "id": "18f99a48",
   "metadata": {},
   "outputs": [],
   "source": [
    "# this will be our prompt template that we can fill with values from our data frame\n",
    "template = \"\"\"\n",
    "You are a very serious and hard-working reddit mod from the {subreddit} subreddit and need to flag comments if they violate the following rule:\n",
    "{rule}\n",
    "\n",
    "Answer only with 'True', if they violate the rule, otherwise answer only with 'False'. Omit everything else.\n",
    "Here are some examples to get you started:\n",
    "\n",
    "# Example 1\n",
    "\n",
    "Comment: {positive_example_1}\n",
    "Output: True\n",
    "\n",
    "# Example 2\n",
    "\n",
    "Comment: {positive_example_2}\n",
    "Output: True\n",
    "\n",
    "# Example 3\n",
    "\n",
    "Comment: {negative_example_1}\n",
    "Output: False\n",
    "\n",
    "# Example 4\n",
    "\n",
    "Comment: {negative_example_2}\n",
    "Output: False\n",
    "\n",
    "# Test\n",
    "\n",
    "Now it's your turn!\n",
    "\n",
    "Comment: {body}\n",
    "Output:\n",
    "\"\"\""
   ]
  },
  {
   "cell_type": "code",
   "execution_count": 15,
   "id": "b14ec558",
   "metadata": {},
   "outputs": [],
   "source": [
    "def apply_template(**kwargs):\n",
    "    \"\"\"Utility function that applies our chat template.\"\"\"\n",
    "    global template, tokenizer\n",
    "\n",
    "    content = template.format(**kwargs)\n",
    "\n",
    "    chat = [\n",
    "        { \"role\": \"user\", \"content\": content},\n",
    "    ]\n",
    "\n",
    "    messages = tokenizer.apply_chat_template(chat, tokenize=False, add_generation_prompt=True)\n",
    "\n",
    "    return messages "
   ]
  },
  {
   "cell_type": "code",
   "execution_count": null,
   "id": "7bc5fd39",
   "metadata": {},
   "outputs": [],
   "source": [
    "def predict_rows(df: pd.DataFrame):\n",
    "    \"\"\"Sequential Prediction for demonstration - would be faster to use a transformer's Dataset.\"\"\"\n",
    "    global tokenizer, template, pipe\n",
    "    outputs = []\n",
    "    total = len(df)\n",
    "    for row_id, row in tqdm(df.iterrows(), total=total):\n",
    "        messages = apply_template(**row)\n",
    "        # cut off model after generating 1 token (True or False)\n",
    "        output = pipe(messages, max_new_tokens=1, return_full_text=False)\n",
    "        output = output[0][\"generated_text\"]\n",
    "        outputs.append({\"row_id\": row_id, \"rule_violation\": output})\n",
    "    return pd.DataFrame(outputs)"
   ]
  },
  {
   "cell_type": "markdown",
   "id": "bf87cc6e",
   "metadata": {},
   "source": [
    "## How well does it perform on the train set?"
   ]
  },
  {
   "cell_type": "code",
   "execution_count": 17,
   "id": "2f47ab6f",
   "metadata": {},
   "outputs": [],
   "source": [
    "x_train = train_df.drop(columns=\"rule_violation\")\n",
    "# convert labels to \"True\" / \"False\" Strings\n",
    "y_train = train_df[\"rule_violation\"].astype(bool).astype(str)"
   ]
  },
  {
   "cell_type": "code",
   "execution_count": 18,
   "id": "6567992e",
   "metadata": {},
   "outputs": [
    {
     "data": {
      "application/vnd.jupyter.widget-view+json": {
       "model_id": "a621d2547ed74567b40834e5d37cd5b5",
       "version_major": 2,
       "version_minor": 0
      },
      "text/plain": [
       "  0%|          | 0/2029 [00:00<?, ?it/s]"
      ]
     },
     "metadata": {},
     "output_type": "display_data"
    },
    {
     "name": "stderr",
     "output_type": "stream",
     "text": [
      "You seem to be using the pipelines sequentially on GPU. In order to maximize efficiency please use a dataset\n"
     ]
    }
   ],
   "source": [
    "pred_train_df = predict_rows(x_train)\n",
    "pred_train = pred_train_df[\"rule_violation\"]"
   ]
  },
  {
   "cell_type": "code",
   "execution_count": 19,
   "id": "774079b8",
   "metadata": {},
   "outputs": [
    {
     "data": {
      "text/plain": [
       "<Axes: title={'center': 'few shot train predictions'}, xlabel='rule_violation'>"
      ]
     },
     "execution_count": 19,
     "metadata": {},
     "output_type": "execute_result"
    },
    {
     "data": {
      "image/png": "[encoded data removed]",
      "text/plain": [
       "<Figure size 640x480 with 1 Axes>"
      ]
     },
     "metadata": {},
     "output_type": "display_data"
    }
   ],
   "source": [
    "# did the model actually only predict False and True?\n",
    "pred_train.value_counts().plot.bar(title=\"few shot train predictions\")"
   ]
  },
  {
   "cell_type": "code",
   "execution_count": 20,
   "id": "86baea34",
   "metadata": {},
   "outputs": [
    {
     "name": "stdout",
     "output_type": "stream",
     "text": [
      "train accuracy: 50.96 %\n"
     ]
    }
   ],
   "source": [
    "acc_train = (y_train == pred_train).mean()\n",
    "\n",
    "print(f\"train accuracy: {100 * acc_train:.2f} %\")"
   ]
  },
  {
   "cell_type": "markdown",
   "id": "ca7eaa25",
   "metadata": {},
   "source": [
    "## Test Set Predictions"
   ]
  },
  {
   "cell_type": "code",
   "execution_count": 22,
   "id": "8b91e46c",
   "metadata": {},
   "outputs": [
    {
     "data": {
      "application/vnd.jupyter.widget-view+json": {
       "model_id": "f8666a819fc147759b00594c0da0c4f1",
       "version_major": 2,
       "version_minor": 0
      },
      "text/plain": [
       "  0%|          | 0/10 [00:00<?, ?it/s]"
      ]
     },
     "metadata": {},
     "output_type": "display_data"
    },
    {
     "data": {
      "text/html": [
       "<div>\n",
       "<style scoped>\n",
       "    .dataframe tbody tr th:only-of-type {\n",
       "        vertical-align: middle;\n",
       "    }\n",
       "\n",
       "    .dataframe tbody tr th {\n",
       "        vertical-align: top;\n",
       "    }\n",
       "\n",
       "    .dataframe thead th {\n",
       "        text-align: right;\n",
       "    }\n",
       "</style>\n",
       "<table border=\"1\" class=\"dataframe\">\n",
       "  <thead>\n",
       "    <tr style=\"text-align: right;\">\n",
       "      <th></th>\n",
       "      <th>row_id</th>\n",
       "      <th>rule_violation</th>\n",
       "    </tr>\n",
       "  </thead>\n",
       "  <tbody>\n",
       "    <tr>\n",
       "      <th>0</th>\n",
       "      <td>0</td>\n",
       "      <td>0</td>\n",
       "    </tr>\n",
       "    <tr>\n",
       "      <th>1</th>\n",
       "      <td>1</td>\n",
       "      <td>0</td>\n",
       "    </tr>\n",
       "    <tr>\n",
       "      <th>2</th>\n",
       "      <td>2</td>\n",
       "      <td>0</td>\n",
       "    </tr>\n",
       "    <tr>\n",
       "      <th>3</th>\n",
       "      <td>3</td>\n",
       "      <td>0</td>\n",
       "    </tr>\n",
       "    <tr>\n",
       "      <th>4</th>\n",
       "      <td>4</td>\n",
       "      <td>0</td>\n",
       "    </tr>\n",
       "  </tbody>\n",
       "</table>\n",
       "</div>"
      ],
      "text/plain": [
       "   row_id  rule_violation\n",
       "0       0               0\n",
       "1       1               0\n",
       "2       2               0\n",
       "3       3               0\n",
       "4       4               0"
      ]
     },
     "execution_count": 22,
     "metadata": {},
     "output_type": "execute_result"
    }
   ],
   "source": [
    "submission_df = predict_rows(test_df)\n",
    "submission_df[\"rule_violation\"] = submission_df[\"rule_violation\"].map({\n",
    "    \"True\": 1,\n",
    "    \"False\": 0\n",
    "}).fillna(0.5)\n",
    "\n",
    "submission_df.to_csv(\"submission.csv\", index=False)\n",
    "submission_df.head()"
   ]
  },
  {
   "cell_type": "markdown",
   "id": "b9d70a9b",
   "metadata": {},
   "source": [
    "## Bookmarks\n",
    "\n",
    "- kaggle:\n",
    "    - https://github.com/Kaggle/kagglehub\n",
    "    - https://www.kaggle.com/models\n",
    "    - https://www.kaggle.com/models/google/gemma-3/transformers/gemma-3-1b-it"
   ]
  },
  {
   "cell_type": "markdown",
   "id": "d0e44474",
   "metadata": {},
   "source": []
  }
 ],
 "metadata": {
  "kernelspec": {
   "display_name": "base",
   "language": "python",
   "name": "python3"
  },
  "language_info": {
   "codemirror_mode": {
    "name": "ipython",
    "version": 3
   },
   "file_extension": ".py",
   "mimetype": "text/x-python",
   "name": "python",
   "nbconvert_exporter": "python",
   "pygments_lexer": "ipython3",
   "version": "3.12.11"
  }
 },
 "nbformat": 4,
 "nbformat_minor": 5
}
